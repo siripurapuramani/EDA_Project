{
 "cells": [
  {
   "cell_type": "code",
   "execution_count": 1,
   "id": "49301b78-406e-4cbe-843d-4ce78c236a0f",
   "metadata": {},
   "outputs": [],
   "source": [
    "import pandas as pd\n",
    "import numpy as np"
   ]
  },
  {
   "cell_type": "code",
   "execution_count": 5,
   "id": "a4e68ea3-c71f-4147-8f4f-e3332284c0d0",
   "metadata": {},
   "outputs": [],
   "source": [
    "dict1={'Name':['ramesh','suresh','satish',np.nan],\n",
    "      'Age':[30,33,np.nan,36],\n",
    "       'City':[np.nan,'Hyd','Vizag','Vjd']}"
   ]
  },
  {
   "cell_type": "code",
   "execution_count": 7,
   "id": "1114d788-4d0c-4c2a-a1a9-d3e28b8307c5",
   "metadata": {},
   "outputs": [
    {
     "data": {
      "text/html": [
       "<div>\n",
       "<style scoped>\n",
       "    .dataframe tbody tr th:only-of-type {\n",
       "        vertical-align: middle;\n",
       "    }\n",
       "\n",
       "    .dataframe tbody tr th {\n",
       "        vertical-align: top;\n",
       "    }\n",
       "\n",
       "    .dataframe thead th {\n",
       "        text-align: right;\n",
       "    }\n",
       "</style>\n",
       "<table border=\"1\" class=\"dataframe\">\n",
       "  <thead>\n",
       "    <tr style=\"text-align: right;\">\n",
       "      <th></th>\n",
       "      <th>Name</th>\n",
       "      <th>Age</th>\n",
       "      <th>City</th>\n",
       "    </tr>\n",
       "  </thead>\n",
       "  <tbody>\n",
       "    <tr>\n",
       "      <th>0</th>\n",
       "      <td>ramesh</td>\n",
       "      <td>30.0</td>\n",
       "      <td>NaN</td>\n",
       "    </tr>\n",
       "    <tr>\n",
       "      <th>1</th>\n",
       "      <td>suresh</td>\n",
       "      <td>33.0</td>\n",
       "      <td>Hyd</td>\n",
       "    </tr>\n",
       "    <tr>\n",
       "      <th>2</th>\n",
       "      <td>satish</td>\n",
       "      <td>NaN</td>\n",
       "      <td>Vizag</td>\n",
       "    </tr>\n",
       "    <tr>\n",
       "      <th>3</th>\n",
       "      <td>NaN</td>\n",
       "      <td>36.0</td>\n",
       "      <td>Vjd</td>\n",
       "    </tr>\n",
       "  </tbody>\n",
       "</table>\n",
       "</div>"
      ],
      "text/plain": [
       "     Name   Age   City\n",
       "0  ramesh  30.0    NaN\n",
       "1  suresh  33.0    Hyd\n",
       "2  satish   NaN  Vizag\n",
       "3     NaN  36.0    Vjd"
      ]
     },
     "execution_count": 7,
     "metadata": {},
     "output_type": "execute_result"
    }
   ],
   "source": [
    "data=pd.DataFrame(dict1)\n",
    "data"
   ]
  },
  {
   "cell_type": "code",
   "execution_count": 9,
   "id": "078b36aa-41a6-4ab8-8f53-fefa1cb9c42b",
   "metadata": {},
   "outputs": [],
   "source": [
    "data.to_csv('data1.csv')"
   ]
  },
  {
   "cell_type": "code",
   "execution_count": 11,
   "id": "ba9a378b-36b3-436f-8ad9-ec4c1ee91e88",
   "metadata": {},
   "outputs": [
    {
     "data": {
      "text/html": [
       "<div>\n",
       "<style scoped>\n",
       "    .dataframe tbody tr th:only-of-type {\n",
       "        vertical-align: middle;\n",
       "    }\n",
       "\n",
       "    .dataframe tbody tr th {\n",
       "        vertical-align: top;\n",
       "    }\n",
       "\n",
       "    .dataframe thead th {\n",
       "        text-align: right;\n",
       "    }\n",
       "</style>\n",
       "<table border=\"1\" class=\"dataframe\">\n",
       "  <thead>\n",
       "    <tr style=\"text-align: right;\">\n",
       "      <th></th>\n",
       "      <th>Name</th>\n",
       "      <th>Age</th>\n",
       "      <th>City</th>\n",
       "    </tr>\n",
       "  </thead>\n",
       "  <tbody>\n",
       "    <tr>\n",
       "      <th>0</th>\n",
       "      <td>False</td>\n",
       "      <td>False</td>\n",
       "      <td>True</td>\n",
       "    </tr>\n",
       "    <tr>\n",
       "      <th>1</th>\n",
       "      <td>False</td>\n",
       "      <td>False</td>\n",
       "      <td>False</td>\n",
       "    </tr>\n",
       "    <tr>\n",
       "      <th>2</th>\n",
       "      <td>False</td>\n",
       "      <td>True</td>\n",
       "      <td>False</td>\n",
       "    </tr>\n",
       "    <tr>\n",
       "      <th>3</th>\n",
       "      <td>True</td>\n",
       "      <td>False</td>\n",
       "      <td>False</td>\n",
       "    </tr>\n",
       "  </tbody>\n",
       "</table>\n",
       "</div>"
      ],
      "text/plain": [
       "    Name    Age   City\n",
       "0  False  False   True\n",
       "1  False  False  False\n",
       "2  False   True  False\n",
       "3   True  False  False"
      ]
     },
     "execution_count": 11,
     "metadata": {},
     "output_type": "execute_result"
    }
   ],
   "source": [
    "data.isnull()"
   ]
  },
  {
   "cell_type": "code",
   "execution_count": 13,
   "id": "883047b4-b118-4255-b550-a4e517199a3c",
   "metadata": {},
   "outputs": [
    {
     "data": {
      "text/plain": [
       "Name    1\n",
       "Age     1\n",
       "City    1\n",
       "dtype: int64"
      ]
     },
     "execution_count": 13,
     "metadata": {},
     "output_type": "execute_result"
    }
   ],
   "source": [
    "data.isnull().sum()"
   ]
  },
  {
   "cell_type": "markdown",
   "id": "06c8e3c7-0ba6-4b38-aa90-f7d9b7c72ce3",
   "metadata": {},
   "source": [
    "**dropna**\n",
    "\n",
    "   - drop the null values data based on rows and columns"
   ]
  },
  {
   "cell_type": "code",
   "execution_count": 17,
   "id": "bb339260-c702-4a97-9d9e-6b3902c765d4",
   "metadata": {},
   "outputs": [
    {
     "data": {
      "text/html": [
       "<div>\n",
       "<style scoped>\n",
       "    .dataframe tbody tr th:only-of-type {\n",
       "        vertical-align: middle;\n",
       "    }\n",
       "\n",
       "    .dataframe tbody tr th {\n",
       "        vertical-align: top;\n",
       "    }\n",
       "\n",
       "    .dataframe thead th {\n",
       "        text-align: right;\n",
       "    }\n",
       "</style>\n",
       "<table border=\"1\" class=\"dataframe\">\n",
       "  <thead>\n",
       "    <tr style=\"text-align: right;\">\n",
       "      <th></th>\n",
       "      <th>Name</th>\n",
       "      <th>Age</th>\n",
       "      <th>City</th>\n",
       "    </tr>\n",
       "  </thead>\n",
       "  <tbody>\n",
       "    <tr>\n",
       "      <th>1</th>\n",
       "      <td>suresh</td>\n",
       "      <td>33.0</td>\n",
       "      <td>Hyd</td>\n",
       "    </tr>\n",
       "  </tbody>\n",
       "</table>\n",
       "</div>"
      ],
      "text/plain": [
       "     Name   Age City\n",
       "1  suresh  33.0  Hyd"
      ]
     },
     "execution_count": 17,
     "metadata": {},
     "output_type": "execute_result"
    }
   ],
   "source": [
    "data.dropna()"
   ]
  },
  {
   "cell_type": "code",
   "execution_count": 19,
   "id": "3fc76727-7677-4110-90fa-d3ba5bdfcc7e",
   "metadata": {},
   "outputs": [
    {
     "data": {
      "text/html": [
       "<div>\n",
       "<style scoped>\n",
       "    .dataframe tbody tr th:only-of-type {\n",
       "        vertical-align: middle;\n",
       "    }\n",
       "\n",
       "    .dataframe tbody tr th {\n",
       "        vertical-align: top;\n",
       "    }\n",
       "\n",
       "    .dataframe thead th {\n",
       "        text-align: right;\n",
       "    }\n",
       "</style>\n",
       "<table border=\"1\" class=\"dataframe\">\n",
       "  <thead>\n",
       "    <tr style=\"text-align: right;\">\n",
       "      <th></th>\n",
       "    </tr>\n",
       "  </thead>\n",
       "  <tbody>\n",
       "    <tr>\n",
       "      <th>0</th>\n",
       "    </tr>\n",
       "    <tr>\n",
       "      <th>1</th>\n",
       "    </tr>\n",
       "    <tr>\n",
       "      <th>2</th>\n",
       "    </tr>\n",
       "    <tr>\n",
       "      <th>3</th>\n",
       "    </tr>\n",
       "  </tbody>\n",
       "</table>\n",
       "</div>"
      ],
      "text/plain": [
       "Empty DataFrame\n",
       "Columns: []\n",
       "Index: [0, 1, 2, 3]"
      ]
     },
     "execution_count": 19,
     "metadata": {},
     "output_type": "execute_result"
    }
   ],
   "source": [
    "data.dropna(axis=1)"
   ]
  },
  {
   "cell_type": "code",
   "execution_count": 63,
   "id": "b6b8f3f5-b832-41ef-b6a8-de3918e9d74d",
   "metadata": {},
   "outputs": [
    {
     "data": {
      "text/html": [
       "<div>\n",
       "<style scoped>\n",
       "    .dataframe tbody tr th:only-of-type {\n",
       "        vertical-align: middle;\n",
       "    }\n",
       "\n",
       "    .dataframe tbody tr th {\n",
       "        vertical-align: top;\n",
       "    }\n",
       "\n",
       "    .dataframe thead th {\n",
       "        text-align: right;\n",
       "    }\n",
       "</style>\n",
       "<table border=\"1\" class=\"dataframe\">\n",
       "  <thead>\n",
       "    <tr style=\"text-align: right;\">\n",
       "      <th></th>\n",
       "      <th>Name</th>\n",
       "      <th>Age</th>\n",
       "      <th>City</th>\n",
       "      <th>Company</th>\n",
       "    </tr>\n",
       "  </thead>\n",
       "  <tbody>\n",
       "    <tr>\n",
       "      <th>0</th>\n",
       "      <td>ramesh</td>\n",
       "      <td>30.0</td>\n",
       "      <td>NaN</td>\n",
       "      <td>infosis</td>\n",
       "    </tr>\n",
       "    <tr>\n",
       "      <th>1</th>\n",
       "      <td>suresh</td>\n",
       "      <td>33.0</td>\n",
       "      <td>Hyd</td>\n",
       "      <td>NaN</td>\n",
       "    </tr>\n",
       "    <tr>\n",
       "      <th>2</th>\n",
       "      <td>satish</td>\n",
       "      <td>NaN</td>\n",
       "      <td>Vizag</td>\n",
       "      <td>tcs</td>\n",
       "    </tr>\n",
       "    <tr>\n",
       "      <th>3</th>\n",
       "      <td>NaN</td>\n",
       "      <td>36.0</td>\n",
       "      <td>Vjd</td>\n",
       "      <td>wipro</td>\n",
       "    </tr>\n",
       "  </tbody>\n",
       "</table>\n",
       "</div>"
      ],
      "text/plain": [
       "     Name   Age   City  Company\n",
       "0  ramesh  30.0    NaN  infosis\n",
       "1  suresh  33.0    Hyd      NaN\n",
       "2  satish   NaN  Vizag      tcs\n",
       "3     NaN  36.0    Vjd    wipro"
      ]
     },
     "execution_count": 63,
     "metadata": {},
     "output_type": "execute_result"
    }
   ],
   "source": [
    "dict1={'Name':['ramesh','suresh','satish',np.nan],\n",
    "      'Age':[30,33,np.nan,36],\n",
    "       'City':[np.nan,'Hyd','Vizag','Vjd'],\n",
    "      'Company':['infosis',np.nan,'tcs','wipro']}\n",
    "data1=pd.DataFrame(dict1)\n",
    "data1"
   ]
  },
  {
   "cell_type": "code",
   "execution_count": 49,
   "id": "d63e8438-e865-4ff2-be28-027960456dcf",
   "metadata": {},
   "outputs": [
    {
     "data": {
      "text/html": [
       "<div>\n",
       "<style scoped>\n",
       "    .dataframe tbody tr th:only-of-type {\n",
       "        vertical-align: middle;\n",
       "    }\n",
       "\n",
       "    .dataframe tbody tr th {\n",
       "        vertical-align: top;\n",
       "    }\n",
       "\n",
       "    .dataframe thead th {\n",
       "        text-align: right;\n",
       "    }\n",
       "</style>\n",
       "<table border=\"1\" class=\"dataframe\">\n",
       "  <thead>\n",
       "    <tr style=\"text-align: right;\">\n",
       "      <th></th>\n",
       "    </tr>\n",
       "  </thead>\n",
       "  <tbody>\n",
       "    <tr>\n",
       "      <th>0</th>\n",
       "    </tr>\n",
       "    <tr>\n",
       "      <th>1</th>\n",
       "    </tr>\n",
       "    <tr>\n",
       "      <th>2</th>\n",
       "    </tr>\n",
       "    <tr>\n",
       "      <th>3</th>\n",
       "    </tr>\n",
       "  </tbody>\n",
       "</table>\n",
       "</div>"
      ],
      "text/plain": [
       "Empty DataFrame\n",
       "Columns: []\n",
       "Index: [0, 1, 2, 3]"
      ]
     },
     "execution_count": 49,
     "metadata": {},
     "output_type": "execute_result"
    }
   ],
   "source": [
    "data1.dropna(axis=1)"
   ]
  },
  {
   "cell_type": "markdown",
   "id": "3efe5fd5-bf24-4458-9044-4734d3ce6470",
   "metadata": {},
   "source": [
    "**Fillna**"
   ]
  },
  {
   "cell_type": "code",
   "execution_count": 51,
   "id": "8fe845cf-1236-4e50-a019-32cbeee9c44b",
   "metadata": {},
   "outputs": [
    {
     "data": {
      "text/html": [
       "<div>\n",
       "<style scoped>\n",
       "    .dataframe tbody tr th:only-of-type {\n",
       "        vertical-align: middle;\n",
       "    }\n",
       "\n",
       "    .dataframe tbody tr th {\n",
       "        vertical-align: top;\n",
       "    }\n",
       "\n",
       "    .dataframe thead th {\n",
       "        text-align: right;\n",
       "    }\n",
       "</style>\n",
       "<table border=\"1\" class=\"dataframe\">\n",
       "  <thead>\n",
       "    <tr style=\"text-align: right;\">\n",
       "      <th></th>\n",
       "      <th>Name</th>\n",
       "      <th>Age</th>\n",
       "      <th>City</th>\n",
       "      <th>Company</th>\n",
       "    </tr>\n",
       "  </thead>\n",
       "  <tbody>\n",
       "    <tr>\n",
       "      <th>0</th>\n",
       "      <td>ramesh</td>\n",
       "      <td>30.0</td>\n",
       "      <td>30</td>\n",
       "      <td>infosis</td>\n",
       "    </tr>\n",
       "    <tr>\n",
       "      <th>1</th>\n",
       "      <td>suresh</td>\n",
       "      <td>33.0</td>\n",
       "      <td>Hyd</td>\n",
       "      <td>30</td>\n",
       "    </tr>\n",
       "    <tr>\n",
       "      <th>2</th>\n",
       "      <td>satish</td>\n",
       "      <td>30.0</td>\n",
       "      <td>Vizag</td>\n",
       "      <td>tcs</td>\n",
       "    </tr>\n",
       "    <tr>\n",
       "      <th>3</th>\n",
       "      <td>30</td>\n",
       "      <td>36.0</td>\n",
       "      <td>Vjd</td>\n",
       "      <td>wipro</td>\n",
       "    </tr>\n",
       "  </tbody>\n",
       "</table>\n",
       "</div>"
      ],
      "text/plain": [
       "     Name   Age   City  Company\n",
       "0  ramesh  30.0     30  infosis\n",
       "1  suresh  33.0    Hyd       30\n",
       "2  satish  30.0  Vizag      tcs\n",
       "3      30  36.0    Vjd    wipro"
      ]
     },
     "execution_count": 51,
     "metadata": {},
     "output_type": "execute_result"
    }
   ],
   "source": [
    "data1.fillna(30)"
   ]
  },
  {
   "cell_type": "code",
   "execution_count": 53,
   "id": "24d778fc-d216-421e-8f71-215ad9a3bbd2",
   "metadata": {},
   "outputs": [
    {
     "data": {
      "text/plain": [
       "0    ramesh\n",
       "1    suresh\n",
       "2    satish\n",
       "3    mamesh\n",
       "Name: Name, dtype: object"
      ]
     },
     "execution_count": 53,
     "metadata": {},
     "output_type": "execute_result"
    }
   ],
   "source": [
    "data1['Name'].fillna('mamesh')"
   ]
  },
  {
   "cell_type": "markdown",
   "id": "8c8c219f-6259-48bb-9a81-50b605c26435",
   "metadata": {},
   "source": [
    "**Draw Back : Filling with random value is not a good practice**\n",
    "\n",
    "- to avoid the we have some methods\n",
    "\n",
    "- backfill\n",
    "\n",
    "- bfill\n",
    "\n",
    "- ffill\n",
    "\n",
    "- pad"
   ]
  },
  {
   "cell_type": "code",
   "execution_count": 65,
   "id": "83233859-4ca4-452c-80d3-66b3be8f5f48",
   "metadata": {},
   "outputs": [
    {
     "data": {
      "text/html": [
       "<div>\n",
       "<style scoped>\n",
       "    .dataframe tbody tr th:only-of-type {\n",
       "        vertical-align: middle;\n",
       "    }\n",
       "\n",
       "    .dataframe tbody tr th {\n",
       "        vertical-align: top;\n",
       "    }\n",
       "\n",
       "    .dataframe thead th {\n",
       "        text-align: right;\n",
       "    }\n",
       "</style>\n",
       "<table border=\"1\" class=\"dataframe\">\n",
       "  <thead>\n",
       "    <tr style=\"text-align: right;\">\n",
       "      <th></th>\n",
       "      <th>Name</th>\n",
       "      <th>Age</th>\n",
       "      <th>City</th>\n",
       "      <th>Company</th>\n",
       "    </tr>\n",
       "  </thead>\n",
       "  <tbody>\n",
       "    <tr>\n",
       "      <th>0</th>\n",
       "      <td>ramesh</td>\n",
       "      <td>30.0</td>\n",
       "      <td>Hyd</td>\n",
       "      <td>infosis</td>\n",
       "    </tr>\n",
       "    <tr>\n",
       "      <th>1</th>\n",
       "      <td>suresh</td>\n",
       "      <td>33.0</td>\n",
       "      <td>Hyd</td>\n",
       "      <td>tcs</td>\n",
       "    </tr>\n",
       "    <tr>\n",
       "      <th>2</th>\n",
       "      <td>satish</td>\n",
       "      <td>36.0</td>\n",
       "      <td>Vizag</td>\n",
       "      <td>tcs</td>\n",
       "    </tr>\n",
       "    <tr>\n",
       "      <th>3</th>\n",
       "      <td>NaN</td>\n",
       "      <td>36.0</td>\n",
       "      <td>Vjd</td>\n",
       "      <td>wipro</td>\n",
       "    </tr>\n",
       "  </tbody>\n",
       "</table>\n",
       "</div>"
      ],
      "text/plain": [
       "     Name   Age   City  Company\n",
       "0  ramesh  30.0    Hyd  infosis\n",
       "1  suresh  33.0    Hyd      tcs\n",
       "2  satish  36.0  Vizag      tcs\n",
       "3     NaN  36.0    Vjd    wipro"
      ]
     },
     "execution_count": 65,
     "metadata": {},
     "output_type": "execute_result"
    }
   ],
   "source": [
    "import warnings\n",
    "warnings.filterwarnings('ignore')\n",
    "data1.backfill()"
   ]
  },
  {
   "cell_type": "code",
   "execution_count": 69,
   "id": "a8b260ac-30e0-4c73-af09-fa9fb0293368",
   "metadata": {},
   "outputs": [
    {
     "data": {
      "text/html": [
       "<div>\n",
       "<style scoped>\n",
       "    .dataframe tbody tr th:only-of-type {\n",
       "        vertical-align: middle;\n",
       "    }\n",
       "\n",
       "    .dataframe tbody tr th {\n",
       "        vertical-align: top;\n",
       "    }\n",
       "\n",
       "    .dataframe thead th {\n",
       "        text-align: right;\n",
       "    }\n",
       "</style>\n",
       "<table border=\"1\" class=\"dataframe\">\n",
       "  <thead>\n",
       "    <tr style=\"text-align: right;\">\n",
       "      <th></th>\n",
       "      <th>Name</th>\n",
       "      <th>Age</th>\n",
       "      <th>City</th>\n",
       "      <th>Company</th>\n",
       "    </tr>\n",
       "  </thead>\n",
       "  <tbody>\n",
       "    <tr>\n",
       "      <th>0</th>\n",
       "      <td>ramesh</td>\n",
       "      <td>30.0</td>\n",
       "      <td>NaN</td>\n",
       "      <td>infosis</td>\n",
       "    </tr>\n",
       "    <tr>\n",
       "      <th>1</th>\n",
       "      <td>suresh</td>\n",
       "      <td>33.0</td>\n",
       "      <td>Hyd</td>\n",
       "      <td>infosis</td>\n",
       "    </tr>\n",
       "    <tr>\n",
       "      <th>2</th>\n",
       "      <td>satish</td>\n",
       "      <td>33.0</td>\n",
       "      <td>Vizag</td>\n",
       "      <td>tcs</td>\n",
       "    </tr>\n",
       "    <tr>\n",
       "      <th>3</th>\n",
       "      <td>satish</td>\n",
       "      <td>36.0</td>\n",
       "      <td>Vjd</td>\n",
       "      <td>wipro</td>\n",
       "    </tr>\n",
       "  </tbody>\n",
       "</table>\n",
       "</div>"
      ],
      "text/plain": [
       "     Name   Age   City  Company\n",
       "0  ramesh  30.0    NaN  infosis\n",
       "1  suresh  33.0    Hyd  infosis\n",
       "2  satish  33.0  Vizag      tcs\n",
       "3  satish  36.0    Vjd    wipro"
      ]
     },
     "execution_count": 69,
     "metadata": {},
     "output_type": "execute_result"
    }
   ],
   "source": [
    "data1.fillna(method='pad')"
   ]
  },
  {
   "cell_type": "code",
   "execution_count": 71,
   "id": "31157094-3a48-4629-9ef8-43aade89be2f",
   "metadata": {},
   "outputs": [
    {
     "data": {
      "text/html": [
       "<div>\n",
       "<style scoped>\n",
       "    .dataframe tbody tr th:only-of-type {\n",
       "        vertical-align: middle;\n",
       "    }\n",
       "\n",
       "    .dataframe tbody tr th {\n",
       "        vertical-align: top;\n",
       "    }\n",
       "\n",
       "    .dataframe thead th {\n",
       "        text-align: right;\n",
       "    }\n",
       "</style>\n",
       "<table border=\"1\" class=\"dataframe\">\n",
       "  <thead>\n",
       "    <tr style=\"text-align: right;\">\n",
       "      <th></th>\n",
       "      <th>Name</th>\n",
       "      <th>Age</th>\n",
       "      <th>City</th>\n",
       "      <th>Company</th>\n",
       "    </tr>\n",
       "  </thead>\n",
       "  <tbody>\n",
       "    <tr>\n",
       "      <th>0</th>\n",
       "      <td>ramesh</td>\n",
       "      <td>30.0</td>\n",
       "      <td>30.0</td>\n",
       "      <td>infosis</td>\n",
       "    </tr>\n",
       "    <tr>\n",
       "      <th>1</th>\n",
       "      <td>suresh</td>\n",
       "      <td>33.0</td>\n",
       "      <td>Hyd</td>\n",
       "      <td>Hyd</td>\n",
       "    </tr>\n",
       "    <tr>\n",
       "      <th>2</th>\n",
       "      <td>satish</td>\n",
       "      <td>satish</td>\n",
       "      <td>Vizag</td>\n",
       "      <td>tcs</td>\n",
       "    </tr>\n",
       "    <tr>\n",
       "      <th>3</th>\n",
       "      <td>NaN</td>\n",
       "      <td>36.0</td>\n",
       "      <td>Vjd</td>\n",
       "      <td>wipro</td>\n",
       "    </tr>\n",
       "  </tbody>\n",
       "</table>\n",
       "</div>"
      ],
      "text/plain": [
       "     Name     Age   City  Company\n",
       "0  ramesh    30.0   30.0  infosis\n",
       "1  suresh    33.0    Hyd      Hyd\n",
       "2  satish  satish  Vizag      tcs\n",
       "3     NaN    36.0    Vjd    wipro"
      ]
     },
     "execution_count": 71,
     "metadata": {},
     "output_type": "execute_result"
    }
   ],
   "source": [
    "data1.fillna(method='pad',axis=1)"
   ]
  },
  {
   "cell_type": "code",
   "execution_count": 57,
   "id": "af5e85ce-029b-41e2-9dd6-9d0fefbdbf28",
   "metadata": {},
   "outputs": [
    {
     "data": {
      "text/html": [
       "<div>\n",
       "<style scoped>\n",
       "    .dataframe tbody tr th:only-of-type {\n",
       "        vertical-align: middle;\n",
       "    }\n",
       "\n",
       "    .dataframe tbody tr th {\n",
       "        vertical-align: top;\n",
       "    }\n",
       "\n",
       "    .dataframe thead th {\n",
       "        text-align: right;\n",
       "    }\n",
       "</style>\n",
       "<table border=\"1\" class=\"dataframe\">\n",
       "  <thead>\n",
       "    <tr style=\"text-align: right;\">\n",
       "      <th></th>\n",
       "      <th>Name</th>\n",
       "      <th>Age</th>\n",
       "      <th>City</th>\n",
       "      <th>Company</th>\n",
       "    </tr>\n",
       "  </thead>\n",
       "  <tbody>\n",
       "    <tr>\n",
       "      <th>0</th>\n",
       "      <td>ramesh</td>\n",
       "      <td>30.0</td>\n",
       "      <td>Hyd</td>\n",
       "      <td>infosis</td>\n",
       "    </tr>\n",
       "    <tr>\n",
       "      <th>1</th>\n",
       "      <td>suresh</td>\n",
       "      <td>33.0</td>\n",
       "      <td>Hyd</td>\n",
       "      <td>tcs</td>\n",
       "    </tr>\n",
       "    <tr>\n",
       "      <th>2</th>\n",
       "      <td>satish</td>\n",
       "      <td>36.0</td>\n",
       "      <td>Vizag</td>\n",
       "      <td>tcs</td>\n",
       "    </tr>\n",
       "    <tr>\n",
       "      <th>3</th>\n",
       "      <td>NaN</td>\n",
       "      <td>36.0</td>\n",
       "      <td>Vjd</td>\n",
       "      <td>wipro</td>\n",
       "    </tr>\n",
       "  </tbody>\n",
       "</table>\n",
       "</div>"
      ],
      "text/plain": [
       "     Name   Age   City  Company\n",
       "0  ramesh  30.0    Hyd  infosis\n",
       "1  suresh  33.0    Hyd      tcs\n",
       "2  satish  36.0  Vizag      tcs\n",
       "3     NaN  36.0    Vjd    wipro"
      ]
     },
     "execution_count": 57,
     "metadata": {},
     "output_type": "execute_result"
    }
   ],
   "source": [
    "data1.bfill()"
   ]
  },
  {
   "cell_type": "code",
   "execution_count": 59,
   "id": "00554528-81f9-4948-b863-5e1598aacb54",
   "metadata": {},
   "outputs": [
    {
     "data": {
      "text/html": [
       "<div>\n",
       "<style scoped>\n",
       "    .dataframe tbody tr th:only-of-type {\n",
       "        vertical-align: middle;\n",
       "    }\n",
       "\n",
       "    .dataframe tbody tr th {\n",
       "        vertical-align: top;\n",
       "    }\n",
       "\n",
       "    .dataframe thead th {\n",
       "        text-align: right;\n",
       "    }\n",
       "</style>\n",
       "<table border=\"1\" class=\"dataframe\">\n",
       "  <thead>\n",
       "    <tr style=\"text-align: right;\">\n",
       "      <th></th>\n",
       "      <th>Name</th>\n",
       "      <th>Age</th>\n",
       "      <th>City</th>\n",
       "      <th>Company</th>\n",
       "    </tr>\n",
       "  </thead>\n",
       "  <tbody>\n",
       "    <tr>\n",
       "      <th>0</th>\n",
       "      <td>ramesh</td>\n",
       "      <td>30.0</td>\n",
       "      <td>NaN</td>\n",
       "      <td>infosis</td>\n",
       "    </tr>\n",
       "    <tr>\n",
       "      <th>1</th>\n",
       "      <td>suresh</td>\n",
       "      <td>33.0</td>\n",
       "      <td>Hyd</td>\n",
       "      <td>infosis</td>\n",
       "    </tr>\n",
       "    <tr>\n",
       "      <th>2</th>\n",
       "      <td>satish</td>\n",
       "      <td>33.0</td>\n",
       "      <td>Vizag</td>\n",
       "      <td>tcs</td>\n",
       "    </tr>\n",
       "    <tr>\n",
       "      <th>3</th>\n",
       "      <td>satish</td>\n",
       "      <td>36.0</td>\n",
       "      <td>Vjd</td>\n",
       "      <td>wipro</td>\n",
       "    </tr>\n",
       "  </tbody>\n",
       "</table>\n",
       "</div>"
      ],
      "text/plain": [
       "     Name   Age   City  Company\n",
       "0  ramesh  30.0    NaN  infosis\n",
       "1  suresh  33.0    Hyd  infosis\n",
       "2  satish  33.0  Vizag      tcs\n",
       "3  satish  36.0    Vjd    wipro"
      ]
     },
     "execution_count": 59,
     "metadata": {},
     "output_type": "execute_result"
    }
   ],
   "source": [
    "data1.ffill()"
   ]
  },
  {
   "cell_type": "code",
   "execution_count": 67,
   "id": "70299c5b-7cae-4f6f-8df5-079c333db62e",
   "metadata": {},
   "outputs": [
    {
     "data": {
      "text/html": [
       "<div>\n",
       "<style scoped>\n",
       "    .dataframe tbody tr th:only-of-type {\n",
       "        vertical-align: middle;\n",
       "    }\n",
       "\n",
       "    .dataframe tbody tr th {\n",
       "        vertical-align: top;\n",
       "    }\n",
       "\n",
       "    .dataframe thead th {\n",
       "        text-align: right;\n",
       "    }\n",
       "</style>\n",
       "<table border=\"1\" class=\"dataframe\">\n",
       "  <thead>\n",
       "    <tr style=\"text-align: right;\">\n",
       "      <th></th>\n",
       "      <th>Name</th>\n",
       "      <th>Age</th>\n",
       "      <th>City</th>\n",
       "      <th>Company</th>\n",
       "    </tr>\n",
       "  </thead>\n",
       "  <tbody>\n",
       "    <tr>\n",
       "      <th>0</th>\n",
       "      <td>ramesh</td>\n",
       "      <td>30.0</td>\n",
       "      <td>NaN</td>\n",
       "      <td>infosis</td>\n",
       "    </tr>\n",
       "    <tr>\n",
       "      <th>1</th>\n",
       "      <td>suresh</td>\n",
       "      <td>33.0</td>\n",
       "      <td>Hyd</td>\n",
       "      <td>infosis</td>\n",
       "    </tr>\n",
       "    <tr>\n",
       "      <th>2</th>\n",
       "      <td>satish</td>\n",
       "      <td>33.0</td>\n",
       "      <td>Vizag</td>\n",
       "      <td>tcs</td>\n",
       "    </tr>\n",
       "    <tr>\n",
       "      <th>3</th>\n",
       "      <td>satish</td>\n",
       "      <td>36.0</td>\n",
       "      <td>Vjd</td>\n",
       "      <td>wipro</td>\n",
       "    </tr>\n",
       "  </tbody>\n",
       "</table>\n",
       "</div>"
      ],
      "text/plain": [
       "     Name   Age   City  Company\n",
       "0  ramesh  30.0    NaN  infosis\n",
       "1  suresh  33.0    Hyd  infosis\n",
       "2  satish  33.0  Vizag      tcs\n",
       "3  satish  36.0    Vjd    wipro"
      ]
     },
     "execution_count": 67,
     "metadata": {},
     "output_type": "execute_result"
    }
   ],
   "source": [
    "data1.pad()"
   ]
  },
  {
   "cell_type": "markdown",
   "id": "4a7d662b-49fe-4f85-87a7-42b55b9285ef",
   "metadata": {},
   "source": [
    "**Mean-Median-Mode**"
   ]
  },
  {
   "cell_type": "code",
   "execution_count": 86,
   "id": "855367fa-95a7-4b58-b3d5-75370d91801b",
   "metadata": {},
   "outputs": [
    {
     "name": "stdout",
     "output_type": "stream",
     "text": [
      "age_mean: 33.0\n"
     ]
    },
    {
     "data": {
      "text/plain": [
       "0    30.0\n",
       "1    33.0\n",
       "2    33.0\n",
       "3    36.0\n",
       "Name: Age, dtype: float64"
      ]
     },
     "execution_count": 86,
     "metadata": {},
     "output_type": "execute_result"
    }
   ],
   "source": [
    "age_mean=data1['Age'].mean()\n",
    "print('age_mean:',age_mean)\n",
    "data1['Age'].fillna(age_mean)"
   ]
  },
  {
   "cell_type": "code",
   "execution_count": 88,
   "id": "da4ed6c5-a607-4595-8a56-11d8afa999e7",
   "metadata": {},
   "outputs": [
    {
     "name": "stdout",
     "output_type": "stream",
     "text": [
      "age_median: 33.0\n"
     ]
    },
    {
     "data": {
      "text/plain": [
       "0    30.0\n",
       "1    33.0\n",
       "2    33.0\n",
       "3    36.0\n",
       "Name: Age, dtype: float64"
      ]
     },
     "execution_count": 88,
     "metadata": {},
     "output_type": "execute_result"
    }
   ],
   "source": [
    "age_median=data1['Age'].median()\n",
    "print('age_median:',age_median)\n",
    "data1['Age'].fillna(age_median)"
   ]
  },
  {
   "cell_type": "code",
   "execution_count": 90,
   "id": "93cf7d17-b5e3-4f9f-a027-591ad7275884",
   "metadata": {},
   "outputs": [
    {
     "name": "stdout",
     "output_type": "stream",
     "text": [
      "city_mode: 0      Hyd\n",
      "1    Vizag\n",
      "2      Vjd\n",
      "Name: City, dtype: object\n"
     ]
    },
    {
     "data": {
      "text/plain": [
       "0      Hyd\n",
       "1      Hyd\n",
       "2    Vizag\n",
       "3      Vjd\n",
       "Name: City, dtype: object"
      ]
     },
     "execution_count": 90,
     "metadata": {},
     "output_type": "execute_result"
    }
   ],
   "source": [
    "city_mode=data1['City'].mode()\n",
    "print('city_mode:',city_mode)\n",
    "data1['City'].fillna(city_mode)"
   ]
  },
  {
   "cell_type": "code",
   "execution_count": 106,
   "id": "7f8dc7a0-2c75-4246-9866-f7888f7d8ff9",
   "metadata": {},
   "outputs": [
    {
     "data": {
      "text/plain": [
       "0      Hyd\n",
       "1      Hyd\n",
       "2    Vizag\n",
       "3      Vjd\n",
       "Name: City, dtype: object"
      ]
     },
     "execution_count": 106,
     "metadata": {},
     "output_type": "execute_result"
    }
   ],
   "source": [
    "city_mode=data1['City'].mode()\n",
    "city_mode1=city_mode.values[0]\n",
    "data1['City'].fillna(city_mode1)"
   ]
  },
  {
   "cell_type": "markdown",
   "id": "81c5a94c-4ee4-4c21-9cb8-7283ac4bbfb6",
   "metadata": {},
   "source": [
    "**KNN Imputer**"
   ]
  },
  {
   "cell_type": "code",
   "execution_count": 111,
   "id": "f1b450cb-e460-4b04-aab5-e0b13160acda",
   "metadata": {},
   "outputs": [
    {
     "data": {
      "text/plain": [
       "['KNNImputer',\n",
       " 'MissingIndicator',\n",
       " 'SimpleImputer',\n",
       " '__all__',\n",
       " '__builtins__',\n",
       " '__cached__',\n",
       " '__doc__',\n",
       " '__file__',\n",
       " '__getattr__',\n",
       " '__loader__',\n",
       " '__name__',\n",
       " '__package__',\n",
       " '__path__',\n",
       " '__spec__',\n",
       " '_base',\n",
       " '_knn',\n",
       " 'typing']"
      ]
     },
     "execution_count": 111,
     "metadata": {},
     "output_type": "execute_result"
    }
   ],
   "source": [
    "from sklearn import impute\n",
    "dir(impute)"
   ]
  },
  {
   "cell_type": "code",
   "execution_count": 113,
   "id": "6a7d84aa-c389-45ff-8936-4faf4908f09f",
   "metadata": {},
   "outputs": [
    {
     "data": {
      "text/plain": [
       "array([[ 1. ,  2. ,  5. ],\n",
       "       [ 3. , 31. ,  3. ],\n",
       "       [ 5.5, 60. ,  5. ],\n",
       "       [ 8. ,  8. ,  7. ]])"
      ]
     },
     "execution_count": 113,
     "metadata": {},
     "output_type": "execute_result"
    }
   ],
   "source": [
    "import numpy as np\n",
    "from sklearn.impute import KNNImputer\n",
    "x=[[1,2,np.nan],[3,np.nan,3],[np.nan,60,5],[8,8,7]]\n",
    "imputer=KNNImputer(n_neighbors=2,weights='uniform')\n",
    "imputer.fit_transform(x)"
   ]
  },
  {
   "cell_type": "code",
   "execution_count": 115,
   "id": "7f06fe29-7d77-49b9-a074-dd5c926a1072",
   "metadata": {},
   "outputs": [
    {
     "data": {
      "text/plain": [
       "array([[ 1.        ,  2.        ,  3.93905505],\n",
       "       [ 3.        , 31.        ,  3.        ],\n",
       "       [ 3.25775362, 60.        ,  5.        ],\n",
       "       [ 8.        ,  8.        ,  7.        ]])"
      ]
     },
     "execution_count": 115,
     "metadata": {},
     "output_type": "execute_result"
    }
   ],
   "source": [
    "import numpy as np\n",
    "from sklearn.impute import KNNImputer\n",
    "x=[[1,2,np.nan],[3,np.nan,3],[np.nan,60,5],[8,8,7]]\n",
    "imputer=KNNImputer(n_neighbors=2,weights='distance')\n",
    "imputer.fit_transform(x)"
   ]
  },
  {
   "cell_type": "code",
   "execution_count": null,
   "id": "8d8781d7-0ebd-4105-ad67-f1ad9300c655",
   "metadata": {},
   "outputs": [],
   "source": []
  }
 ],
 "metadata": {
  "kernelspec": {
   "display_name": "Python 3 (ipykernel)",
   "language": "python",
   "name": "python3"
  },
  "language_info": {
   "codemirror_mode": {
    "name": "ipython",
    "version": 3
   },
   "file_extension": ".py",
   "mimetype": "text/x-python",
   "name": "python",
   "nbconvert_exporter": "python",
   "pygments_lexer": "ipython3",
   "version": "3.12.7"
  }
 },
 "nbformat": 4,
 "nbformat_minor": 5
}
