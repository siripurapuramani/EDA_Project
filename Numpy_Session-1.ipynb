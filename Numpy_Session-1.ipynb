{
 "cells": [
  {
   "cell_type": "markdown",
   "id": "33fdf6c4-420e-4161-9335-d20c215d5266",
   "metadata": {},
   "source": [
    "-package name: Numpy\n",
    "\n",
    "-Numpy means numerical python\n",
    "\n",
    "-it is similar to math pacakage\n",
    "\n",
    "-it completely focus on math operations\n",
    "\n",
    "-mean-median-mode-varainace-covarience\n",
    "\n",
    "-distance between to points\n",
    "\n",
    "-linear algebra\n",
    "\n",
    "-matrixs operations etc\n",
    "\n",
    "- When its comes storing a numbers\n",
    "\n",
    "- list and tuple\n",
    "\n",
    "- array:numpy\n",
    "\n",
    "-tensors:tensorflow or pytorch\n",
    "\n",
    "\n"
   ]
  },
  {
   "cell_type": "code",
   "execution_count": 6,
   "id": "a4ab9077-86df-4a29-8abd-c6a6453b08d7",
   "metadata": {},
   "outputs": [
    {
     "data": {
      "text/plain": [
       "[11, 22, 33, 44]"
      ]
     },
     "execution_count": 6,
     "metadata": {},
     "output_type": "execute_result"
    }
   ],
   "source": [
    "l1=[10,20,30,40]\n",
    "l2=[1,2,3,4]\n",
    "l=[]\n",
    "for (i,j) in zip(l1,l2):\n",
    "    l.append(i+j)\n",
    "l"
   ]
  },
  {
   "cell_type": "code",
   "execution_count": 8,
   "id": "ac58e69a-417e-44ce-b221-4567427bc07d",
   "metadata": {},
   "outputs": [
    {
     "data": {
      "text/plain": [
       "[11, 22, 33, 44]"
      ]
     },
     "execution_count": 8,
     "metadata": {},
     "output_type": "execute_result"
    }
   ],
   "source": [
    "l=[i+j for i,j in zip(l1,l2)]\n",
    "l"
   ]
  },
  {
   "cell_type": "code",
   "execution_count": 10,
   "id": "1d8baffb-1805-46d4-813e-4247029fcd64",
   "metadata": {},
   "outputs": [
    {
     "data": {
      "text/plain": [
       "[10, 20, 30, 40, 1, 2, 3, 4]"
      ]
     },
     "execution_count": 10,
     "metadata": {},
     "output_type": "execute_result"
    }
   ],
   "source": [
    "l1=[10,20,30,40]\n",
    "l2=[1,2,3,4]\n",
    "l1+l2"
   ]
  },
  {
   "cell_type": "code",
   "execution_count": 24,
   "id": "9f133fc1-ed66-4751-ac50-b860218655ea",
   "metadata": {},
   "outputs": [],
   "source": [
    "import numpy as np\n",
    "l1=[10,20,30,40]\n",
    "arr1=np.array(l1)"
   ]
  },
  {
   "cell_type": "code",
   "execution_count": 18,
   "id": "e4eff392-36ac-4416-8298-d2d1b77f726c",
   "metadata": {},
   "outputs": [
    {
     "name": "stdout",
     "output_type": "stream",
     "text": [
      "0.29865479469299316\n"
     ]
    }
   ],
   "source": [
    "import time\n",
    "start=time.time()\n",
    "l1=list(range(1,1000000))\n",
    "l2=list(range(1,1000000))\n",
    "mul=[i*j for i,j in zip(l1,l2)]\n",
    "end=time.time()\n",
    "print(end-start)"
   ]
  },
  {
   "cell_type": "code",
   "execution_count": 20,
   "id": "8fc80ca7-35f1-4e6c-b612-1591c051acba",
   "metadata": {},
   "outputs": [
    {
     "name": "stdout",
     "output_type": "stream",
     "text": [
      "0.02562737464904785\n"
     ]
    }
   ],
   "source": [
    "import time\n",
    "start=time.time()\n",
    "arr1=np.arange(1,1000000)\n",
    "arr2=np.arange(1,1000000)\n",
    "mul=arr1*arr2\n",
    "end=time.time()\n",
    "print(end-start)"
   ]
  },
  {
   "cell_type": "markdown",
   "id": "f7183fc0-3e13-4240-8937-e2c68bba48f5",
   "metadata": {},
   "source": [
    "- Always question yourself\n",
    "\n",
    "   - How can we do vector operations\n",
    "\n",
    "   - How can we do matrix operations\n",
    "\n",
    "   - How can we do linera algebra operations\n",
    "\n",
    "   - Then the answer is Numpy\n",
    "\n",
    "- Is Numpy elements represents in arrays\n",
    "\n",
    "- every array as dimension \n"
   ]
  },
  {
   "cell_type": "code",
   "execution_count": 4,
   "id": "f3a1e346-cf15-4138-a0d6-a8cd32c34c43",
   "metadata": {},
   "outputs": [
    {
     "data": {
      "text/plain": [
       "array([30, 40, 50])"
      ]
     },
     "execution_count": 4,
     "metadata": {},
     "output_type": "execute_result"
    }
   ],
   "source": [
    "import numpy as np\n",
    "l1=[30,40,50]\n",
    "arr1=np.array(l1)\n",
    "arr1"
   ]
  },
  {
   "cell_type": "code",
   "execution_count": 6,
   "id": "2a8c4473-f34f-4bb6-b399-71033058fca1",
   "metadata": {},
   "outputs": [
    {
     "data": {
      "text/plain": [
       "1"
      ]
     },
     "execution_count": 6,
     "metadata": {},
     "output_type": "execute_result"
    }
   ],
   "source": [
    "import numpy as np\n",
    "l1=[30,40,50]\n",
    "arr1=np.array(l1)\n",
    "arr1.ndim"
   ]
  },
  {
   "cell_type": "code",
   "execution_count": 12,
   "id": "50754f19-1615-4283-bfdc-d8524cdc70b4",
   "metadata": {},
   "outputs": [
    {
     "data": {
      "text/plain": [
       "(3,)"
      ]
     },
     "execution_count": 12,
     "metadata": {},
     "output_type": "execute_result"
    }
   ],
   "source": [
    "import numpy as np\n",
    "l1=[30,40,50]\n",
    "arr1=np.array(l1)\n",
    "arr1.shape"
   ]
  },
  {
   "cell_type": "code",
   "execution_count": 10,
   "id": "2f0d48e9-bc7c-4149-a70a-0a9d211c9510",
   "metadata": {},
   "outputs": [
    {
     "data": {
      "text/plain": [
       "3"
      ]
     },
     "execution_count": 10,
     "metadata": {},
     "output_type": "execute_result"
    }
   ],
   "source": [
    "import numpy as np\n",
    "l1=[30,40,50]\n",
    "arr1=np.array(l1)\n",
    "arr1.size"
   ]
  },
  {
   "cell_type": "code",
   "execution_count": 16,
   "id": "cc40eff5-fd03-47ed-a959-f649b470e7a8",
   "metadata": {},
   "outputs": [
    {
     "data": {
      "text/plain": [
       "array([[10, 20, 30, 40],\n",
       "       [ 1,  2,  3,  4]])"
      ]
     },
     "execution_count": 16,
     "metadata": {},
     "output_type": "execute_result"
    }
   ],
   "source": [
    "import numpy  as np\n",
    "l1=[10,20,30,40]\n",
    "l2=[1,2,3,4]\n",
    "arr2d=np.array([l1,l2])\n",
    "arr2d"
   ]
  },
  {
   "cell_type": "code",
   "execution_count": 18,
   "id": "137685b6-f969-42ac-981b-2aae37dc7e8e",
   "metadata": {},
   "outputs": [
    {
     "data": {
      "text/plain": [
       "2"
      ]
     },
     "execution_count": 18,
     "metadata": {},
     "output_type": "execute_result"
    }
   ],
   "source": [
    "arr2d.ndim"
   ]
  },
  {
   "cell_type": "code",
   "execution_count": 20,
   "id": "77658553-635f-4c0b-b44e-232ff2e686e0",
   "metadata": {},
   "outputs": [
    {
     "data": {
      "text/plain": [
       "(2, 4)"
      ]
     },
     "execution_count": 20,
     "metadata": {},
     "output_type": "execute_result"
    }
   ],
   "source": [
    "arr2d.shape"
   ]
  },
  {
   "cell_type": "code",
   "execution_count": 22,
   "id": "6febbad7-14c7-494a-bd7a-440660d5356d",
   "metadata": {},
   "outputs": [
    {
     "data": {
      "text/plain": [
       "8"
      ]
     },
     "execution_count": 22,
     "metadata": {},
     "output_type": "execute_result"
    }
   ],
   "source": [
    "arr2d.size"
   ]
  },
  {
   "cell_type": "code",
   "execution_count": 24,
   "id": "9e9a369d-3fe4-498d-a9bf-10c134453242",
   "metadata": {},
   "outputs": [
    {
     "data": {
      "text/plain": [
       "array([[[10, 20, 30, 40],\n",
       "        [ 1,  2,  3,  4]]])"
      ]
     },
     "execution_count": 24,
     "metadata": {},
     "output_type": "execute_result"
    }
   ],
   "source": [
    "import numpy  as np\n",
    "l1=[10,20,30,40]\n",
    "l2=[1,2,3,4]\n",
    "arr3d=np.array([[l1,l2]])\n",
    "arr3d"
   ]
  },
  {
   "cell_type": "code",
   "execution_count": 26,
   "id": "5aa23b10-1edb-4ae0-b240-5ccc9447e1ed",
   "metadata": {},
   "outputs": [
    {
     "data": {
      "text/plain": [
       "3"
      ]
     },
     "execution_count": 26,
     "metadata": {},
     "output_type": "execute_result"
    }
   ],
   "source": [
    "arr3d.ndim"
   ]
  },
  {
   "cell_type": "code",
   "execution_count": 28,
   "id": "a233d8a0-67d5-42d5-9a1e-e6c2cc1083c3",
   "metadata": {},
   "outputs": [
    {
     "data": {
      "text/plain": [
       "(1, 2, 4)"
      ]
     },
     "execution_count": 28,
     "metadata": {},
     "output_type": "execute_result"
    }
   ],
   "source": [
    "arr3d.shape"
   ]
  },
  {
   "cell_type": "code",
   "execution_count": 30,
   "id": "83ba4448-d1a1-402e-bc28-b9907a74603a",
   "metadata": {},
   "outputs": [
    {
     "data": {
      "text/plain": [
       "8"
      ]
     },
     "execution_count": 30,
     "metadata": {},
     "output_type": "execute_result"
    }
   ],
   "source": [
    "arr2d.size"
   ]
  },
  {
   "cell_type": "markdown",
   "id": "911bfd90-ead7-4659-8fbe-77bf23833a99",
   "metadata": {},
   "source": [
    "l.m.n: 2,2,4\n",
    "\n",
    "- -n indicates how many elements we have in a list\n",
    "\n",
    "    -n=4 means a list has 4 elements :[10,20,30,40]\n",
    "\n",
    "- m indicates how many lists avaiable \n",
    "\n",
    "    -m=2 means 2 lists are avaiable\n",
    "\n",
    "    each list how many 4 values\n",
    "\n",
    "    one list name is :l1\n",
    "\n",
    "    another list name is : l2\n",
    "\n",
    "    m:[l1,l2]\n",
    "- l indicates how many m\n",
    "\n",
    "   -l=2 means there are 2 m's avaiable\n",
    "\n",
    "   -m=[l1,l2]\n",
    "\n",
    "   -[[l1,l2],[l1,l2]]"
   ]
  },
  {
   "cell_type": "code",
   "execution_count": 33,
   "id": "a89846bd-ddef-4bef-85eb-a5f762e4f571",
   "metadata": {},
   "outputs": [
    {
     "data": {
      "text/plain": [
       "array([[[10, 20, 30, 40],\n",
       "        [ 1,  2,  3,  4]],\n",
       "\n",
       "       [[10, 20, 30, 40],\n",
       "        [ 1,  2,  3,  4]]])"
      ]
     },
     "execution_count": 33,
     "metadata": {},
     "output_type": "execute_result"
    }
   ],
   "source": [
    "l1=[10,20,30,40]\n",
    "l2=[1,2,3,4]\n",
    "np.array([[l1,l2],[l1,l2]])"
   ]
  },
  {
   "cell_type": "code",
   "execution_count": 35,
   "id": "2fbe19b6-a0fb-4ff4-8208-c721675560b2",
   "metadata": {},
   "outputs": [
    {
     "data": {
      "text/plain": [
       "(2, 2, 4)"
      ]
     },
     "execution_count": 35,
     "metadata": {},
     "output_type": "execute_result"
    }
   ],
   "source": [
    "np.array([[l1,l2],[l1,l2]]).shape"
   ]
  },
  {
   "cell_type": "code",
   "execution_count": 43,
   "id": "f91432e5-0598-41de-9603-5da6e81fd1be",
   "metadata": {},
   "outputs": [
    {
     "data": {
      "text/plain": [
       "(2, 4)"
      ]
     },
     "execution_count": 43,
     "metadata": {},
     "output_type": "execute_result"
    }
   ],
   "source": [
    "l1=[10,20,30,40]\n",
    "np.array([l1,l1]).shape"
   ]
  },
  {
   "cell_type": "code",
   "execution_count": 47,
   "id": "af051692-5be8-42d7-a54d-823cfee218c5",
   "metadata": {},
   "outputs": [
    {
     "data": {
      "text/plain": [
       "(3, 2, 4)"
      ]
     },
     "execution_count": 47,
     "metadata": {},
     "output_type": "execute_result"
    }
   ],
   "source": [
    "l1=[10,20,30,40]\n",
    "l2=[1,2,3,4]\n",
    "np.array([[l1,l2],[l1,l2],[l1,l2]]).shape"
   ]
  },
  {
   "cell_type": "code",
   "execution_count": 75,
   "id": "e4f0d3fd-6b1a-44d7-aaa6-bb823662a112",
   "metadata": {},
   "outputs": [
    {
     "data": {
      "text/plain": [
       "(5, 4, 3, 4)"
      ]
     },
     "execution_count": 75,
     "metadata": {},
     "output_type": "execute_result"
    }
   ],
   "source": [
    "l1=[10,20,30,40]\n",
    "l2=[1,2,3,4]\n",
    "m=[l1,l2]\n",
    "k=[l,l,l,l]\n",
    "n=[k,k,k,k,k]\n",
    "np.array(n).shape\n"
   ]
  },
  {
   "cell_type": "code",
   "execution_count": 81,
   "id": "78c29f0a-2d77-4f8f-8d79-19425573f909",
   "metadata": {},
   "outputs": [
    {
     "data": {
      "text/plain": [
       "(3, 3, 4)"
      ]
     },
     "execution_count": 81,
     "metadata": {},
     "output_type": "execute_result"
    }
   ],
   "source": [
    "l1=[10,20,30,40]\n",
    "h1=[[l1,l1,l1],[l1,l1,l1],[l1,l1,l1]]\n",
    "np.array(h1).shape\n"
   ]
  },
  {
   "cell_type": "code",
   "execution_count": 83,
   "id": "3ead1cb7-94e6-48e1-81e1-7c09bcadda50",
   "metadata": {},
   "outputs": [
    {
     "data": {
      "text/plain": [
       "array([[0., 0., 0.],\n",
       "       [0., 0., 0.],\n",
       "       [0., 0., 0.]])"
      ]
     },
     "execution_count": 83,
     "metadata": {},
     "output_type": "execute_result"
    }
   ],
   "source": [
    "shape=(3,3)\n",
    "np.zeros(shape)"
   ]
  },
  {
   "cell_type": "code",
   "execution_count": 85,
   "id": "97cb4b6f-cb61-4031-aa5d-7a4d7e603093",
   "metadata": {},
   "outputs": [
    {
     "data": {
      "text/plain": [
       "array([[0., 0., 0.],\n",
       "       [0., 0., 0.],\n",
       "       [0., 0., 0.]])"
      ]
     },
     "execution_count": 85,
     "metadata": {},
     "output_type": "execute_result"
    }
   ],
   "source": [
    "shape=(3,3)\n",
    "np.zeros((3,3))"
   ]
  },
  {
   "cell_type": "code",
   "execution_count": 93,
   "id": "a3bfa63f-5a0c-43a7-bc16-ba8ccb5bfc79",
   "metadata": {},
   "outputs": [
    {
     "data": {
      "text/plain": [
       "array([[1., 1., 1.],\n",
       "       [1., 1., 1.],\n",
       "       [1., 1., 1.]])"
      ]
     },
     "execution_count": 93,
     "metadata": {},
     "output_type": "execute_result"
    }
   ],
   "source": [
    "np.ones((3,3))"
   ]
  },
  {
   "cell_type": "code",
   "execution_count": 95,
   "id": "596adc6b-7edf-4cb5-a938-cafd70a7fb5a",
   "metadata": {},
   "outputs": [
    {
     "data": {
      "text/plain": [
       "array([[1., 1., 1.],\n",
       "       [1., 1., 1.],\n",
       "       [1., 1., 1.]])"
      ]
     },
     "execution_count": 95,
     "metadata": {},
     "output_type": "execute_result"
    }
   ],
   "source": [
    "shape=(3,3)\n",
    "np.ones(shape)"
   ]
  },
  {
   "cell_type": "code",
   "execution_count": 107,
   "id": "e377e00b-452e-4315-9a53-a7a1c2d3617a",
   "metadata": {},
   "outputs": [
    {
     "data": {
      "text/plain": [
       "array([[1., 0., 0., 0.],\n",
       "       [0., 1., 0., 0.],\n",
       "       [0., 0., 1., 0.],\n",
       "       [0., 0., 0., 1.]])"
      ]
     },
     "execution_count": 107,
     "metadata": {},
     "output_type": "execute_result"
    }
   ],
   "source": [
    "arr11=np.eye(4)\n",
    "arr11"
   ]
  },
  {
   "cell_type": "code",
   "execution_count": 109,
   "id": "e9de055a-c51d-43ed-b369-bfd9f867d5cd",
   "metadata": {},
   "outputs": [
    {
     "data": {
      "text/plain": [
       "array([1., 0., 0., 0., 0., 1., 0., 0., 0., 0., 1., 0., 0., 0., 0., 1.])"
      ]
     },
     "execution_count": 109,
     "metadata": {},
     "output_type": "execute_result"
    }
   ],
   "source": [
    "arr11.flatten()"
   ]
  },
  {
   "cell_type": "code",
   "execution_count": 111,
   "id": "0bda09a9-215a-4671-9cad-02fc24fbca44",
   "metadata": {},
   "outputs": [
    {
     "data": {
      "text/plain": [
       "[1.0,\n",
       " 0.0,\n",
       " 0.0,\n",
       " 0.0,\n",
       " 0.0,\n",
       " 1.0,\n",
       " 0.0,\n",
       " 0.0,\n",
       " 0.0,\n",
       " 0.0,\n",
       " 1.0,\n",
       " 0.0,\n",
       " 0.0,\n",
       " 0.0,\n",
       " 0.0,\n",
       " 1.0]"
      ]
     },
     "execution_count": 111,
     "metadata": {},
     "output_type": "execute_result"
    }
   ],
   "source": [
    "arr11.flatten().tolist()"
   ]
  },
  {
   "cell_type": "code",
   "execution_count": 113,
   "id": "3cbcbb37-73fa-4120-adfb-8cb08454b04f",
   "metadata": {},
   "outputs": [
    {
     "data": {
      "text/plain": [
       "array([[1., 0., 0., 0.],\n",
       "       [0., 1., 0., 0.],\n",
       "       [0., 0., 1., 0.],\n",
       "       [0., 0., 0., 1.]])"
      ]
     },
     "execution_count": 113,
     "metadata": {},
     "output_type": "execute_result"
    }
   ],
   "source": [
    "arr11.transpose()"
   ]
  },
  {
   "cell_type": "code",
   "execution_count": 1,
   "id": "6d6aa30c-79b0-44ce-b1f1-dc441765a548",
   "metadata": {},
   "outputs": [
    {
     "data": {
      "text/plain": [
       "17"
      ]
     },
     "execution_count": 1,
     "metadata": {},
     "output_type": "execute_result"
    }
   ],
   "source": [
    "import random\n",
    "random.randint(10,20)"
   ]
  },
  {
   "cell_type": "code",
   "execution_count": 3,
   "id": "ccea5c26-c071-4524-a574-fd12f3751512",
   "metadata": {},
   "outputs": [
    {
     "data": {
      "text/plain": [
       "7"
      ]
     },
     "execution_count": 3,
     "metadata": {},
     "output_type": "execute_result"
    }
   ],
   "source": [
    "import numpy as np\n",
    "np.random.randint(10)"
   ]
  },
  {
   "cell_type": "code",
   "execution_count": 5,
   "id": "3d9b3cff-82aa-4e85-86c8-f565613c5a91",
   "metadata": {},
   "outputs": [
    {
     "data": {
      "text/plain": [
       "28"
      ]
     },
     "execution_count": 5,
     "metadata": {},
     "output_type": "execute_result"
    }
   ],
   "source": [
    "np.random.randint(10,50)"
   ]
  },
  {
   "cell_type": "code",
   "execution_count": 7,
   "id": "928adb65-ec9d-4517-b016-6356ad4c5d10",
   "metadata": {},
   "outputs": [
    {
     "data": {
      "text/plain": [
       "array([30, 44, 47, 28, 32])"
      ]
     },
     "execution_count": 7,
     "metadata": {},
     "output_type": "execute_result"
    }
   ],
   "source": [
    "np.random.randint(10,50,size=5)"
   ]
  },
  {
   "cell_type": "code",
   "execution_count": 9,
   "id": "d3a8441f-ed1a-419e-ad53-7ce7654d31f0",
   "metadata": {},
   "outputs": [
    {
     "data": {
      "text/plain": [
       "array([[44, 28, 17],\n",
       "       [45, 25, 19]])"
      ]
     },
     "execution_count": 9,
     "metadata": {},
     "output_type": "execute_result"
    }
   ],
   "source": [
    "shape=(2,3)\n",
    "np.random.randint(10,50,size=shape)"
   ]
  },
  {
   "cell_type": "markdown",
   "id": "d23c1028-0257-498f-8a8d-62e0c141e800",
   "metadata": {},
   "source": [
    "- when we develop ML models we use some date for training some data for testing\n",
    " \n",
    "- also we will use multiple models for traing and testing\n",
    "\n",
    "- Out of these models which model gives best results that we selected\n",
    " \n",
    "- so we need every model should test on same data\n",
    "  \n",
    "- this we can achieve by **np.random.seed()**"
   ]
  },
  {
   "cell_type": "code",
   "execution_count": 19,
   "id": "ee3f74ce-6aad-4ab3-b86a-0ea4b7b537ef",
   "metadata": {},
   "outputs": [
    {
     "data": {
      "text/plain": [
       "array([13, 14, 14, 10, 11])"
      ]
     },
     "execution_count": 19,
     "metadata": {},
     "output_type": "execute_result"
    }
   ],
   "source": [
    "np.random.seed(1234)\n",
    "np.random.randint(10,15,size=5)"
   ]
  },
  {
   "cell_type": "code",
   "execution_count": null,
   "id": "20f61857-1dc8-4e48-8268-2a9271798244",
   "metadata": {},
   "outputs": [],
   "source": []
  }
 ],
 "metadata": {
  "kernelspec": {
   "display_name": "Python [conda env:base] *",
   "language": "python",
   "name": "conda-base-py"
  },
  "language_info": {
   "codemirror_mode": {
    "name": "ipython",
    "version": 3
   },
   "file_extension": ".py",
   "mimetype": "text/x-python",
   "name": "python",
   "nbconvert_exporter": "python",
   "pygments_lexer": "ipython3",
   "version": "3.12.7"
  }
 },
 "nbformat": 4,
 "nbformat_minor": 5
}
